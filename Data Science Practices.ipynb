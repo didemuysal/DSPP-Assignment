{
 "cells": [
  {
   "cell_type": "code",
   "execution_count": null,
   "id": "82b55ce3",
   "metadata": {},
   "outputs": [],
   "source": [
    "# Didem Uysal \n"
   ]
  },
  {
   "cell_type": "code",
   "execution_count": 2,
   "id": "a1015ee6",
   "metadata": {},
   "outputs": [],
   "source": [
    "import pandas as pd"
   ]
  },
  {
   "cell_type": "code",
   "execution_count": 3,
   "id": "e0b971a5",
   "metadata": {
    "scrolled": true
   },
   "outputs": [
    {
     "name": "stdout",
     "output_type": "stream",
     "text": [
      "           X1        X2        X3        X4        X5  C\n",
      "0   -0.007564  0.222171  0.158978  1.159728  0.267387  0\n",
      "1    0.171858 -0.041690  0.250635  0.165851  0.461043  0\n",
      "2    0.736046  0.343963  0.749114  0.561858  0.712554  0\n",
      "3    0.000639 -0.175082  0.070584  0.317284  0.582597  0\n",
      "4    0.571760 -0.244216  0.234515  0.902095  0.594026  0\n",
      "..        ...       ...       ...       ...       ... ..\n",
      "124  0.648946  0.946382  0.893618  0.539939  0.532365  1\n",
      "125  0.768015  0.955685  0.495043  0.100583  0.836665  1\n",
      "126  0.649908  0.845137  0.406619  0.654427  1.003261  1\n",
      "127  0.221111  0.787071  0.318218  0.867372  0.682562  1\n",
      "128  0.423381  1.089316  1.486272  0.250884  0.440059  1\n",
      "\n",
      "[129 rows x 6 columns]\n"
     ]
    }
   ],
   "source": [
    "ecoli = pd.read_csv(\"ecoli.csv\") # read the csv file \n",
    "print(ecoli)  # class values: 0 membrane, 1 perisplasm"
   ]
  },
  {
   "cell_type": "code",
   "execution_count": 11,
   "id": "2fc7ae8b",
   "metadata": {},
   "outputs": [
    {
     "data": {
      "text/html": [
       "<div>\n",
       "<style scoped>\n",
       "    .dataframe tbody tr th:only-of-type {\n",
       "        vertical-align: middle;\n",
       "    }\n",
       "\n",
       "    .dataframe tbody tr th {\n",
       "        vertical-align: top;\n",
       "    }\n",
       "\n",
       "    .dataframe thead th {\n",
       "        text-align: right;\n",
       "    }\n",
       "</style>\n",
       "<table border=\"1\" class=\"dataframe\">\n",
       "  <thead>\n",
       "    <tr style=\"text-align: right;\">\n",
       "      <th></th>\n",
       "      <th>X1</th>\n",
       "      <th>X2</th>\n",
       "      <th>X3</th>\n",
       "      <th>X4</th>\n",
       "      <th>X5</th>\n",
       "      <th>C</th>\n",
       "    </tr>\n",
       "  </thead>\n",
       "  <tbody>\n",
       "    <tr>\n",
       "      <th>0</th>\n",
       "      <td>-0.007564</td>\n",
       "      <td>0.222171</td>\n",
       "      <td>0.158978</td>\n",
       "      <td>1.159728</td>\n",
       "      <td>0.267387</td>\n",
       "      <td>0</td>\n",
       "    </tr>\n",
       "    <tr>\n",
       "      <th>1</th>\n",
       "      <td>0.171858</td>\n",
       "      <td>-0.041690</td>\n",
       "      <td>0.250635</td>\n",
       "      <td>0.165851</td>\n",
       "      <td>0.461043</td>\n",
       "      <td>0</td>\n",
       "    </tr>\n",
       "    <tr>\n",
       "      <th>2</th>\n",
       "      <td>0.736046</td>\n",
       "      <td>0.343963</td>\n",
       "      <td>0.749114</td>\n",
       "      <td>0.561858</td>\n",
       "      <td>0.712554</td>\n",
       "      <td>0</td>\n",
       "    </tr>\n",
       "    <tr>\n",
       "      <th>3</th>\n",
       "      <td>0.000639</td>\n",
       "      <td>-0.175082</td>\n",
       "      <td>0.070584</td>\n",
       "      <td>0.317284</td>\n",
       "      <td>0.582597</td>\n",
       "      <td>0</td>\n",
       "    </tr>\n",
       "    <tr>\n",
       "      <th>4</th>\n",
       "      <td>0.571760</td>\n",
       "      <td>-0.244216</td>\n",
       "      <td>0.234515</td>\n",
       "      <td>0.902095</td>\n",
       "      <td>0.594026</td>\n",
       "      <td>0</td>\n",
       "    </tr>\n",
       "  </tbody>\n",
       "</table>\n",
       "</div>"
      ],
      "text/plain": [
       "         X1        X2        X3        X4        X5  C\n",
       "0 -0.007564  0.222171  0.158978  1.159728  0.267387  0\n",
       "1  0.171858 -0.041690  0.250635  0.165851  0.461043  0\n",
       "2  0.736046  0.343963  0.749114  0.561858  0.712554  0\n",
       "3  0.000639 -0.175082  0.070584  0.317284  0.582597  0\n",
       "4  0.571760 -0.244216  0.234515  0.902095  0.594026  0"
      ]
     },
     "execution_count": 11,
     "metadata": {},
     "output_type": "execute_result"
    }
   ],
   "source": [
    "# Exploratory data analysis - first look\n",
    "ecoli.shape \n",
    "ecolu.head()"
   ]
  },
  {
   "cell_type": "code",
   "execution_count": 15,
   "id": "44ac5388",
   "metadata": {},
   "outputs": [
    {
     "name": "stdout",
     "output_type": "stream",
     "text": [
      "Missing Values:\n",
      "X1    0\n",
      "X2    0\n",
      "X3    0\n",
      "X4    0\n",
      "X5    0\n",
      "C     0\n",
      "dtype: int64\n"
     ]
    }
   ],
   "source": [
    "# null check for corresponding protein values\n",
    "missing_values = ecoli.isnull().sum()\n",
    "print(\"Missing Values:\")\n",
    "print(missing_values) # it is seen that the dataset is a whole"
   ]
  },
  {
   "cell_type": "code",
   "execution_count": 97,
   "id": "ef5d1f8a",
   "metadata": {},
   "outputs": [
    {
     "name": "stdout",
     "output_type": "stream",
     "text": [
      "The numerical variables are : ['X1', 'X2', 'X3', 'X4', 'X5', 'C']\n"
     ]
    }
   ],
   "source": [
    "numeric = [var for var in ecoli.columns if ecoli[var].dtype!='O'] # checkin the dataset consisted of numeric values\n",
    "print('The numerical variables are :', numeric)"
   ]
  },
  {
   "cell_type": "code",
   "execution_count": 109,
   "id": "e0f2042a",
   "metadata": {},
   "outputs": [],
   "source": [
    "# import of required libraries\n",
    "from sklearn.preprocessing import scale  \n",
    "from sklearn.naive_bayes import GaussianNB\n",
    "from sklearn.linear_model import LogisticRegression\n",
    "from sklearn.model_selection import train_test_split, cross_val_score\n",
    "from sklearn.metrics import accuracy_score, precision_score, recall_score, f1_score, roc_auc_score, roc_curve, classification_report\n",
    "import matplotlib.pyplot as plt\n"
   ]
  },
  {
   "cell_type": "code",
   "execution_count": 99,
   "id": "fc4fc696",
   "metadata": {},
   "outputs": [],
   "source": [
    "# Split the data into feature matrix X and target variable y\n",
    "X = ecoli[['X1', 'X2', 'X3', 'X4', 'X5']]\n",
    "y = ecoli['C']"
   ]
  },
  {
   "cell_type": "code",
   "execution_count": 100,
   "id": "9d77871f",
   "metadata": {},
   "outputs": [
    {
     "data": {
      "text/plain": [
       "((103, 5), (26, 5))"
      ]
     },
     "execution_count": 100,
     "metadata": {},
     "output_type": "execute_result"
    }
   ],
   "source": [
    "# Scale the feature matrix X for model. Scaling makes mean=0 and standard deviation=1\n",
    "X_scaled = scale(X)\n",
    "\n",
    "# Split the data into training and testing sets\n",
    "X_train, X_test, y_train, y_test = train_test_split(X_scaled, y, test_size=0.2, random_state=42)\n",
    "X_train.shape, X_test.shape  \n"
   ]
  },
  {
   "cell_type": "code",
   "execution_count": 107,
   "id": "055e15d1",
   "metadata": {},
   "outputs": [],
   "source": [
    "# Train the Naive Bayes model\n",
    "model_gnb = GaussianNB()    \n",
    "model_gnb.fit(X_train, y_train)\n",
    "\n",
    "# Make predictions\n",
    "y_pred_gnb = model_gnb.predict(X_test)   # give the MAP estimate of the class label\n"
   ]
  },
  {
   "cell_type": "code",
   "execution_count": 110,
   "id": "74bcc920",
   "metadata": {},
   "outputs": [],
   "source": [
    "#Logistic Regression model\n",
    "model_logreg = LogisticRegression()\n",
    "model_logreg.fit(X_train, y_train)\n",
    "\n",
    "# Make predictions\n",
    "y_pred_logreg = model_logreg.predict(X_test)"
   ]
  },
  {
   "cell_type": "code",
   "execution_count": 127,
   "id": "8438c292",
   "metadata": {},
   "outputs": [
    {
     "name": "stdout",
     "output_type": "stream",
     "text": [
      "              precision    recall  f1-score   support\n",
      "\n",
      "           0       0.62      0.87      0.72        15\n",
      "           1       0.60      0.27      0.37        11\n",
      "\n",
      "    accuracy                           0.62        26\n",
      "   macro avg       0.61      0.57      0.55        26\n",
      "weighted avg       0.61      0.62      0.58        26\n",
      "\n",
      "Accuracy For Naive Bayes: 0.6153846153846154\n",
      "Precision For Naive Bayes: 0.6\n",
      "Recall For Naive Bayes: 0.2727272727272727\n",
      "F1 Score For Naive Bayes: 0.37499999999999994\n"
     ]
    }
   ],
   "source": [
    "# Calculate Evaluation metrics for Gaussian Naive Bayes\n",
    "accuracy_gnb = accuracy_score(y_test, y_pred_gnb)\n",
    "precision_gnb = precision_score(y_test, y_pred_gnb)\n",
    "recall_gnb = recall_score(y_test, y_pred_gnb)\n",
    "f1_gnb = f1_score(y_test, y_pred_gnb)\n",
    "\n",
    "print(classification_report(y_test, y_pred_gnb))\n",
    "\n",
    "print(\"Accuracy For Naive Bayes:\", accuracy_gnb)\n",
    "print(\"Precision For Naive Bayes:\", precision_gnb)\n",
    "print(\"Recall For Naive Bayes:\", recall_gnb)\n",
    "print(\"F1 Score For Naive Bayes:\", f1_gnb)"
   ]
  },
  {
   "cell_type": "code",
   "execution_count": 126,
   "id": "9051e7b7",
   "metadata": {},
   "outputs": [
    {
     "name": "stdout",
     "output_type": "stream",
     "text": [
      "              precision    recall  f1-score   support\n",
      "\n",
      "           0       0.68      0.87      0.76        15\n",
      "           1       0.71      0.45      0.56        11\n",
      "\n",
      "    accuracy                           0.69        26\n",
      "   macro avg       0.70      0.66      0.66        26\n",
      "weighted avg       0.70      0.69      0.68        26\n",
      "\n",
      "Accuracy For Logistic Regression : 0.6923076923076923\n",
      "Precision For Logistic Regression: 0.7142857142857143\n",
      "Recall For Logistic Regression: 0.45454545454545453\n",
      "F1 Score For Logistic Regression: 0.5555555555555556\n"
     ]
    }
   ],
   "source": [
    "# Calculate Evaluation metrics for Logistic Regression \n",
    "accuracy_logreg = accuracy_score(y_test, y_pred_logreg)\n",
    "precision_logreg = precision_score(y_test, y_pred_logreg)\n",
    "recall_logreg = recall_score(y_test, y_pred_logreg)\n",
    "f1_logreg = f1_score(y_test, y_pred_logreg)\n",
    "\n",
    "print(classification_report(y_test, y_pred_logreg))\n",
    "\n",
    "print(\"Accuracy For Logistic Regression :\", accuracy_logreg)\n",
    "print(\"Precision For Logistic Regression:\", precision_logreg)\n",
    "print(\"Recall For Logistic Regression:\", recall_logreg)\n",
    "print(\"F1 Score For Logistic Regression:\", f1_logreg)"
   ]
  },
  {
   "cell_type": "code",
   "execution_count": 132,
   "id": "130ca03d",
   "metadata": {},
   "outputs": [
    {
     "name": "stdout",
     "output_type": "stream",
     "text": [
      "Confusion matrix for Naive Bayes\n",
      "\n",
      " [[13  2]\n",
      " [ 8  3]]\n",
      "\n",
      "True Positives(TP) =  13\n",
      "\n",
      "True Negatives(TN) =  3\n",
      "\n",
      "False Positives(FP) =  2\n",
      "\n",
      "False Negatives(FN) =  8\n"
     ]
    }
   ],
   "source": [
    "# Confusion Matrix for Gaussian Naive Bayes\n",
    "conf_m_gnb = confusion_matrix(y_test, y_pred_gnb)\n",
    "\n",
    "print('Confusion matrix for Naive Bayes\\n\\n', conf_m_gnb)\n",
    "print('\\nTrue Positives(TP) = ', conf_m_gnb[0,0])\n",
    "print('\\nTrue Negatives(TN) = ', conf_m_gnb[1,1])\n",
    "print('\\nFalse Positives(FP) = ', conf_m_gnb[0,1])\n",
    "print('\\nFalse Negatives(FN) = ', conf_m_gnb[1,0])"
   ]
  },
  {
   "cell_type": "code",
   "execution_count": 131,
   "id": "03dc8289",
   "metadata": {},
   "outputs": [
    {
     "name": "stdout",
     "output_type": "stream",
     "text": [
      "Confusion matrix for Logistic Regression  \n",
      "\n",
      " [[13  2]\n",
      " [ 6  5]]\n",
      "\n",
      "True Positives(TP) =  13\n",
      "\n",
      "True Negatives(TN) =  5\n",
      "\n",
      "False Positives(FP) =  2\n",
      "\n",
      "False Negatives(FN) =  6\n"
     ]
    }
   ],
   "source": [
    "# Confusion Matrix for Logistic Regression \n",
    "conf_m_logreg = confusion_matrix(y_test, y_pred_logreg)\n",
    "\n",
    "print('Confusion matrix for Logistic Regression  \\n\\n', conf_m_logreg)\n",
    "print('\\nTrue Positives(TP) = ', conf_m_logreg[0,0])\n",
    "print('\\nTrue Negatives(TN) = ', conf_m_logreg[1,1])\n",
    "print('\\nFalse Positives(FP) = ', conf_m_logreg[0,1])\n",
    "print('\\nFalse Negatives(FN) = ', conf_m_logreg[1,0])"
   ]
  },
  {
   "cell_type": "code",
   "execution_count": 157,
   "id": "02582200",
   "metadata": {},
   "outputs": [
    {
     "name": "stdout",
     "output_type": "stream",
     "text": [
      "Cross-Validation Scores:\n",
      "[0.75      0.7254902]\n",
      "Mean F1 Score: 0.7663636363636365\n"
     ]
    }
   ],
   "source": [
    "# Perform cross-validation\n",
    "cv_scores_gnb = cross_val_score(model_gnb, X_train, y_train, cv=2, scoring='accuracy')\n",
    "\n",
    "print(\"Cross-Validation Scores:\")\n",
    "print(cv_scores_gnb)\n",
    "print(\"Mean F1 Score:\", cv_scores.mean())"
   ]
  },
  {
   "cell_type": "code",
   "execution_count": 159,
   "id": "0436682a",
   "metadata": {},
   "outputs": [
    {
     "name": "stdout",
     "output_type": "stream",
     "text": [
      "Cross-Validation Scores:\n",
      "[0.78846154 0.7254902 ]\n",
      "Mean F1 Score: 0.7569758672699849\n"
     ]
    }
   ],
   "source": [
    "# Perform cross-validation\n",
    "cv_scores_logreg = cross_val_score(model_logreg, X_train, y_train, cv=2, scoring='accuracy')\n",
    "\n",
    "print(\"Cross-Validation Scores:\")\n",
    "print(cv_scores_logreg)\n",
    "print(\"Mean F1 Score:\", cv_scores_logreg.mean())"
   ]
  },
  {
   "cell_type": "code",
   "execution_count": 152,
   "id": "42e66637",
   "metadata": {},
   "outputs": [
    {
     "data": {
      "text/plain": [
       "<Axes: >"
      ]
     },
     "execution_count": 152,
     "metadata": {},
     "output_type": "execute_result"
    },
    {
     "data": {
      "image/png": "[encoded data removed]",
      "text/plain": [
       "<Figure size 640x480 with 2 Axes>"
      ]
     },
     "metadata": {},
     "output_type": "display_data"
    }
   ],
   "source": [
    "import seaborn as sns # for statistical data visualization\n",
    "cm_matrix_gnb = pd.DataFrame(data=conf_m_gnb, columns=['Actual Positive:1', 'Actual Negative:0'], \n",
    "                                 index=['Predict Positive:1', 'Predict Negative:0'])\n",
    "\n",
    "sns.heatmap(cm_matrix_gnb, annot=True)"
   ]
  },
  {
   "cell_type": "code",
   "execution_count": 151,
   "id": "b085ac41",
   "metadata": {},
   "outputs": [
    {
     "data": {
      "text/plain": [
       "<Axes: >"
      ]
     },
     "execution_count": 151,
     "metadata": {},
     "output_type": "execute_result"
    },
    {
     "data": {
      "image/png": "[encoded data removed]",
      "text/plain": [
       "<Figure size 640x480 with 2 Axes>"
      ]
     },
     "metadata": {},
     "output_type": "display_data"
    }
   ],
   "source": [
    "import seaborn as sns # for statistical data visualization\n",
    "cm_matrix_logreg = pd.DataFrame(data=conf_m_logreg, columns=['Actual Positive:1', 'Actual Negative:0'], \n",
    "                                 index=['Predict Positive:1', 'Predict Negative:0'])\n",
    "\n",
    "sns.heatmap(cm_matrix_logreg, annot=True)"
   ]
  },
  {
   "cell_type": "code",
   "execution_count": 136,
   "id": "9d7a6aee",
   "metadata": {},
   "outputs": [
    {
     "name": "stdout",
     "output_type": "stream",
     "text": [
      "Predicted Probabilities:\n",
      "[[0.95871188 0.04128812]\n",
      " [0.95148635 0.04851365]\n",
      " [0.27586562 0.72413438]\n",
      " [0.84527753 0.15472247]\n",
      " [0.47883454 0.52116546]\n",
      " [0.62223572 0.37776428]\n",
      " [0.55459288 0.44540712]\n",
      " [0.97536361 0.02463639]\n",
      " [0.93087533 0.06912467]\n",
      " [0.93666447 0.06333553]\n",
      " [0.95544298 0.04455702]\n",
      " [0.85269826 0.14730174]\n",
      " [0.90057726 0.09942274]\n",
      " [0.90566539 0.09433461]\n",
      " [0.87633733 0.12366267]\n",
      " [0.68403603 0.31596397]\n",
      " [0.78773546 0.21226454]\n",
      " [0.70541357 0.29458643]\n",
      " [0.9547035  0.0452965 ]\n",
      " [0.27810984 0.72189016]\n",
      " [0.16222536 0.83777464]\n",
      " [0.78850362 0.21149638]\n",
      " [0.60060077 0.39939923]\n",
      " [0.9960557  0.0039443 ]\n",
      " [0.30001464 0.69998536]\n",
      " [0.95247635 0.04752365]]\n"
     ]
    }
   ],
   "source": [
    "# Calculate the predicted probabilities for each class\n",
    "y_pred_proba_gnb = model_gnb.predict_proba(X_test)\n",
    "\n",
    "# Print the predicted probabilities\n",
    "print(\"Predicted Probabilities:\")\n",
    "print(y_pred_proba_gnb)"
   ]
  },
  {
   "cell_type": "code",
   "execution_count": 137,
   "id": "36619ade",
   "metadata": {},
   "outputs": [
    {
     "name": "stdout",
     "output_type": "stream",
     "text": [
      "Predicted Probabilities:\n",
      "[[0.94833183 0.05166817]\n",
      " [0.92540119 0.07459881]\n",
      " [0.20681138 0.79318862]\n",
      " [0.87343889 0.12656111]\n",
      " [0.39965468 0.60034532]\n",
      " [0.68392643 0.31607357]\n",
      " [0.63569999 0.36430001]\n",
      " [0.97619287 0.02380713]\n",
      " [0.9378283  0.0621717 ]\n",
      " [0.93519852 0.06480148]\n",
      " [0.93079661 0.06920339]\n",
      " [0.82126637 0.17873363]\n",
      " [0.91030968 0.08969032]\n",
      " [0.95950719 0.04049281]\n",
      " [0.89147121 0.10852879]\n",
      " [0.75511768 0.24488232]\n",
      " [0.80494088 0.19505912]\n",
      " [0.18092936 0.81907064]\n",
      " [0.89397915 0.10602085]\n",
      " [0.08718398 0.91281602]\n",
      " [0.25893776 0.74106224]\n",
      " [0.82917168 0.17082832]\n",
      " [0.09396341 0.90603659]\n",
      " [0.98539821 0.01460179]\n",
      " [0.35953001 0.64046999]\n",
      " [0.93562339 0.06437661]]\n"
     ]
    }
   ],
   "source": [
    "# Calculate the predicted probabilities for each class\n",
    "y_pred_proba_logreg = model_logreg.predict_proba(X_test)\n",
    "\n",
    "# Print the predicted probabilities\n",
    "print(\"Predicted Probabilities:\")\n",
    "print(y_pred_proba_logreg)"
   ]
  },
  {
   "cell_type": "code",
   "execution_count": 156,
   "id": "43b4971e",
   "metadata": {},
   "outputs": [
    {
     "data": {
      "image/png": "[encoded data removed]",
      "text/plain": [
       "<Figure size 640x480 with 1 Axes>"
      ]
     },
     "metadata": {},
     "output_type": "display_data"
    },
    {
     "name": "stdout",
     "output_type": "stream",
     "text": [
      "ROC AUC for The Naive Bayes: 0.5455\n"
     ]
    }
   ],
   "source": [
    "# Calculate the ROC AUC score for The Naive Bayes\n",
    "y_pred_proba_gnb = model_gnb.predict_proba(X_test)[:, 1]\n",
    "\n",
    "# Calculate the ROC AUC score for The Naive Bayes\n",
    "roc_auc_gnb = roc_auc_score(y_test, y_pred_proba_gnb)\n",
    "\n",
    "# Plot the ROC curve\n",
    "fpr_gnb, tpr_gnb, thresholds_gnb = roc_curve(y_test, y_pred_proba_gnb)\n",
    "plt.plot(fpr_gnb, tpr_gnb)\n",
    "plt.xlabel('False Positive Rate')\n",
    "plt.ylabel('True Positive Rate')\n",
    "plt.title('ROC Curve for The Naive Bayes')\n",
    "plt.show()\n",
    "\n",
    "\n",
    "ROC_AUC_gnb = roc_auc_score(y_test, y_pred_proba_gnb)\n",
    "print('ROC AUC for The Naive Bayes: {:.4f}'.format(ROC_AUC_gnb))"
   ]
  },
  {
   "cell_type": "code",
   "execution_count": 128,
   "id": "579f0752",
   "metadata": {},
   "outputs": [
    {
     "data": {
      "image/png": "[encoded data removed]",
      "text/plain": [
       "<Figure size 640x480 with 1 Axes>"
      ]
     },
     "metadata": {},
     "output_type": "display_data"
    },
    {
     "name": "stdout",
     "output_type": "stream",
     "text": [
      "ROC AUC for The Logistic Regression: 0.6364\n"
     ]
    }
   ],
   "source": [
    "# Calculate the ROC AUC score for The Logistic Regression\n",
    "y_pred_proba_logreg = model_logreg.predict_proba(X_test)[:, 1]\n",
    "\n",
    "# Calculate the ROC AUC score for The Logistic Regression\n",
    "roc_auc_logreg = roc_auc_score(y_test, y_pred_proba_logreg)\n",
    "\n",
    "# Plot the ROC curve\n",
    "fpr_logreg, tpr_logreg, thresholds_logreg = roc_curve(y_test, y_pred_proba_logreg)\n",
    "plt.plot(fpr_logreg, tpr_logreg)\n",
    "plt.xlabel('False Positive Rate')\n",
    "plt.ylabel('True Positive Rate')\n",
    "plt.title('ROC Curve for The Logistic Regression')\n",
    "plt.show()\n",
    "\n",
    "\n",
    "ROC_AUC_logreg = roc_auc_score(y_test, y_pred_proba_logreg)\n",
    "print('ROC AUC for The Logistic Regression: {:.4f}'.format(ROC_AUC_logreg))"
   ]
  },
  {
   "cell_type": "code",
   "execution_count": 166,
   "id": "dca15a80",
   "metadata": {},
   "outputs": [
    {
     "name": "stdout",
     "output_type": "stream",
     "text": [
      "Cross-Validation Scores:\n",
      "[0.77142857 0.73529412 0.76470588]\n",
      "Mean F1 Score for CV=5: 0.7663636363636365\n",
      "Cross-Validation Scores:\n",
      "[0.75      0.7254902]\n",
      "Mean F1 Score CV=10 : 0.7663636363636365\n",
      "Cross-Validation Scores:\n",
      "[0.77142857 0.70588235 0.73529412]\n",
      "Mean F1 Score for CV=5: 0.7663636363636365\n",
      "Cross-Validation Scores:\n",
      "[0.80952381 0.71428571 0.71428571 0.8        0.65      ]\n",
      "Mean F1 Score CV=10: 0.7663636363636365\n"
     ]
    }
   ],
   "source": [
    "## Additional calculations for various cv values\n",
    "cv_scores_gnb_3 = cross_val_score(model_gnb, X_train, y_train, cv=3, scoring='accuracy') #cv value equals to 3\n",
    "\n",
    "print(\"Cross-Validation Scores:\")\n",
    "print(cv_scores_gnb_3)\n",
    "print(\"Mean F1 Score for CV=5:\", cv_scores.mean())\n",
    "\n",
    "\n",
    "cv_scores_gnb_5 = cross_val_score(model_gnb, X_train, y_train, cv=5, scoring='accuracy') #cv value equals to 5\n",
    "\n",
    "print(\"Cross-Validation Scores:\")\n",
    "print(cv_scores_gnb)\n",
    "print(\"Mean F1 Score CV=10 :\", cv_scores.mean())\n",
    "\n",
    "cv_scores_logreg_3 = cross_val_score(model_logreg, X_train, y_train, cv=3, scoring='accuracy') #cv value equals to 3\n",
    "\n",
    "print(\"Cross-Validation Scores:\")\n",
    "print(cv_scores_logreg_3)\n",
    "print(\"Mean F1 Score for CV=5:\", cv_scores.mean())\n",
    "\n",
    "\n",
    "cv_scores_logreg_5 = cross_val_score(model_logreg, X_train, y_train, cv=5, scoring='accuracy') #cv value equals to 5\n",
    "\n",
    "print(\"Cross-Validation Scores:\")\n",
    "print(cv_scores_logreg_10)\n",
    "print(\"Mean F1 Score CV=10:\", cv_scores.mean())\n"
   ]
  },
  {
   "cell_type": "markdown",
   "id": "88f17081",
   "metadata": {},
   "source": [
    "# Pre-Processing and Data Analysis\n",
    "Necessary libraries are imported: pandas, sklearn.naive_bayes, sklearn.model_selection, sklearn.metrics, and matplotlib.pyplot.\n",
    "Reads the contents of a CSV file named \"ecoli.csv\" using pd.read_csv() function. The dataset is stored as a pandas DataFrame called ecoli. In order to see the missing values in the ecoli daatset the isnull().sum() function is used. The resulting count of missing values for each column is stored in the missing_values variable, which is 0. By being zero it is understood that the dataset is whole.\n",
    "\n",
    "For better model performance features are scaled. By doing that it made the mean 0 and standard deviation 1.\n",
    "In order to create test and train splits the feature matrix X and the target variable y from the ecoli extracted. The feature matrix X contains the features labeled 'X1', 'X2', 'X3', 'X4', and 'X5', and the target variable y contains the values from the 'C' column which is target value. The X and y are split into training and testing sets with a test size of 30% (specified by test_size=0.3) and a random seed of 42. The seperated training and testing sets are stored in X_train, X_test, y_train, and y_test variables.\n"
   ]
  },
  {
   "cell_type": "markdown",
   "id": "4bce4405",
   "metadata": {},
   "source": [
    "# The Gaussian Naïve Bayes Model\n",
    "\n",
    "Naive Bayes Model is a classification probability algorithm based on Bayes Theorem. It assumes that features are independent according to given the class label. The Naive Bayes model calculates the probability of each class given feature values and predicts the label with the highest probability.\n",
    "\n",
    "Naive Bayes Model could be applied to two-class and multi-class problems. Gaussian Naive Bayes is generally used for binary classification problems.\n",
    "\n",
    "Inputs\n",
    "X: Feature matrix. A matrix includes the input features which are represented by the columns 'X1', 'X2', 'X3', 'X4', and 'X5'.\n",
    "y: Target variable. The class labels corresponding to the input features are represented by the column 'C' which has 2 values: 0 and 1. \n",
    "\n",
    "Outputs\n",
    "y_pred_gnb: Class labels predicted by the model.\n",
    "\n",
    "The Gaussian Naive Bayes classifier is imported for classification and object is created. Later classifier fits into the training data. The trained classifier predicted the target values and according to the classification that the model made evaluation metrics have been calculated.\n",
    "\n",
    "# The Logistic Regression\n",
    "\n",
    "Logistic regression is a binary classification statistical model. It links the relationship between the input features and the target variable. The logistic regression model applies the logistic function of the input features, and it uses as a threshold to put the features into classes.\n",
    "\n",
    "Inputs\n",
    "X: Feature matrix. A matrix includes the input features which represented by the columns 'X1', 'X2', 'X3', 'X4', and 'X5'.\n",
    "y: Target variable. The class labels corresponding to the input features are represented by the column 'C' which has 2 values: 0 and 1.\n",
    "\n",
    "Outputs \n",
    "y_pred_logreg: Class labels predicted by the model.\n",
    "\n",
    "Same as the Gaussian Naive Bayes Model, The Logistic Regression classifier is also imported, the object is created, trained, predicted and, according to the calculations evaluation metrics have been calculated."
   ]
  },
  {
   "cell_type": "markdown",
   "id": "51704ef0",
   "metadata": {},
   "source": [
    "\n",
    "# Comparison of Model Performance \n",
    "\n",
    "To compare the performance of the Naive Bayes and logistic regression models, several evaluation metrics are used in this code. These metrics are calculated for both the Naive Bayes and logistic regression models, and the results are compared in order to evaluate the models on the provided dataset. \n",
    "\n",
    "## Accuracy\n",
    "The ratio of correct and true predicted values to the total number of values.\n",
    "## Precision\n",
    "The ratio of true positive predictions to the total number of positive predictions.\n",
    "## Recall \n",
    "The ratio of true positive predictions to the total number of actual positives.\n",
    "## F1 Score\n",
    "The harmonic mean of precision and recall. Higher F1 score is better.\n",
    "##  ROC AUC (Receiver Operating Characteristic Area Under the Curve)\n",
    "It measures the success of the model by calculating the area under the ROC curve. A higher value indicates a better performance.\n",
    "\n",
    "\n",
    "Accuracy For Naive Bayes: 0.6153846153846154\n",
    "Precision For Naive Bayes: 0.6\n",
    "Recall For Naive Bayes: 0.2727272727272727\n",
    "F1 Score For Naive Bayes: 0.37499999999999994\n",
    "ROC AUC for The Naive Bayes: 0.5455\n",
    "\n",
    "Accuracy For Logistic Regression : 0.6923076923076923\n",
    "Precision For Logistic Regression: 0.7142857142857143\n",
    "Recall For Logistic Regression: 0.45454545454545453\n",
    "F1 Score For Logistic Regression: 0.5555555555555556\n",
    "ROC AUC for The Logistic Regression: 0.6364\n",
    "\n",
    "## Confusion Matrix\n",
    "The confusion matrix shows the type of error made by the models. Rows represent the actual classes, columns represent the predicted classes. For both of the models heat-map is created for visualisation.\n",
    "\n",
    "True Positive (TP): Actually positive and predicted positive.\n",
    "True Negative (TN): Actually negative and predicted negative.\n",
    "False Positive (FP): Actually negative but predicted positive.\n",
    "False Negative (FN): Actually positive but predicted negative.\n",
    "\n",
    "\n",
    "### Confusion matrix for Naive Bayes\n",
    "\n",
    " [[13  2]\n",
    " [ 8  3]]\n",
    "\n",
    "True Positives(TP) =  13\n",
    "True Negatives(TN) =  3\n",
    "False Positives(FP) =  2\n",
    "False Negatives(FN) =  8\n",
    "\n",
    "Matrix shows that 13+3=16 correct predictions and 8+2=10 incorrect predictions. \n",
    "\n",
    "\n",
    "### Confusion matrix for Logistic Regression  \n",
    "\n",
    " [[13  2]\n",
    " [ 6  5]]\n",
    "\n",
    "True Positives(TP) =  13\n",
    "True Negatives(TN) =  5\n",
    "False Positives(FP) =  2\n",
    "False Negatives(FN) =  6\n",
    "Matrix shows that 13+5=18 correct predictions and 6+2=8 incorrect predictions.\n",
    "\n",
    "When we compare the confusion matrix and evaluation metrices it shows that Logistic Regression is considerably better for given dataset with the whole metrices on the raw data. After cross-validation;\n",
    "\n",
    "Naive Bayes Mean F1 Score: 0.7663636363636365\n",
    "\n",
    "Logistic Regression Mean F1 Score: 0.7569758672699849 \n",
    "\n",
    "is calculated. Additionally with various cross validaiton values it is seen both models becomes better at classifying. CV values 3 and 5 are calculated after ROC AUC calculation. \n",
    "For CV=2, it is seen that Naive Bayes is better than the Logistic Regression. Gaussian Naive Bayes works better with each fold and solves the underfit problem.\n",
    "\n"
   ]
  },
  {
   "cell_type": "markdown",
   "id": "6a6172ce",
   "metadata": {},
   "source": [
    "# Result\n",
    "After model evaluation and comparing the prediction of probabilities are calculated with ROC AUC. According to the model comparison:\n",
    "The Naive Bayes: 0.5455\n",
    "The Logistic Regression Model: 0.6364\n",
    "\n",
    "The Logistic Regression model has an accuracy of 0.692, the precision of 0.714, the recall of 0.455, the F1 score of 0.556 provides a balanced measure of precision and recall.\n",
    "Comparing the two models, Logistic Regression generally performs better than the Gaussian Naive Bayes Model. The evaluation metrices shows that for the given dataset Logistic Regression made a better classification. Additionally, the confusion matrix shows that the Logistic Regression model has more true positives and true negatives, meanwhile the Naive Bayes model has more false positives and false negatives."
   ]
  }
 ],
 "metadata": {
  "kernelspec": {
   "display_name": "Python 3 (ipykernel)",
   "language": "python",
   "name": "python3"
  },
  "language_info": {
   "codemirror_mode": {
    "name": "ipython",
    "version": 3
   },
   "file_extension": ".py",
   "mimetype": "text/x-python",
   "name": "python",
   "nbconvert_exporter": "python",
   "pygments_lexer": "ipython3",
   "version": "3.11.5"
  }
 },
 "nbformat": 4,
 "nbformat_minor": 5
}
